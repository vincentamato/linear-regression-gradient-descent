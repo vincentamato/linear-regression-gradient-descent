{
  "nbformat": 4,
  "nbformat_minor": 0,
  "metadata": {
    "colab": {
      "provenance": []
    },
    "kernelspec": {
      "name": "python3",
      "display_name": "Python 3"
    },
    "language_info": {
      "name": "python"
    }
  },
  "cells": [
    {
      "cell_type": "code",
      "execution_count": 160,
      "metadata": {
        "id": "yKKhoXeG_uKf"
      },
      "outputs": [],
      "source": [
        "import numpy as np\n",
        "import pandas as pd\n",
        "import matplotlib.pyplot as plt\n",
        "from sklearn.datasets import fetch_california_housing\n",
        "from sklearn.preprocessing import StandardScaler\n",
        "from sklearn.model_selection import train_test_split\n",
        "%matplotlib inline"
      ]
    },
    {
      "cell_type": "code",
      "source": [
        "# load the dataset\n",
        "data = fetch_california_housing()\n",
        "housing_data = pd.DataFrame(data.data, columns=data.feature_names)\n",
        "housing_data['Price'] = data.target\n",
        "\n",
        "# split the data into features and targets\n",
        "x = housing_data.drop(labels=['Price'], axis=1).values\n",
        "y = housing_data['Price'].values\n",
        "\n",
        "# split the data into training and testing sets\n",
        "x_train, x_test, y_train, y_test = train_test_split(x, y, test_size=0.2)\n",
        "\n",
        "# scale the features\n",
        "scaler = StandardScaler()\n",
        "x_train = scaler.fit_transform(x_train)\n",
        "x_test = scaler.transform(x_test)\n",
        "\n",
        "# reshape y_train and y_test\n",
        "y_train = y_train.reshape(-1, 1)\n",
        "y_test = y_test.reshape(-1, 1)"
      ],
      "metadata": {
        "id": "NN8v5lWY_04v"
      },
      "execution_count": 162,
      "outputs": []
    },
    {
      "cell_type": "code",
      "source": [
        "# define the linear regression\n",
        "class LinearRegression:\n",
        "\n",
        "  def __init__(self, num_features, learning_rate, num_iterations=1000, sigma=0.01):\n",
        "    self.num_features = num_features\n",
        "    self.learning_rate = learning_rate\n",
        "    self.num_iterations = num_iterations\n",
        "    self.w = np.random.normal(0, sigma, (num_features, 1))\n",
        "    self.b = 0\n",
        "    self.loss_history = []\n",
        "\n",
        "  def forward(self, x):\n",
        "    return np.dot(x, self.w) + self.b\n",
        "\n",
        "  def loss(self, y_true, y_pred):\n",
        "    return np.mean((y_true - y_pred)**2)\n",
        "\n",
        "  def optimize(self, x, y_true, y_pred):\n",
        "    m = len(y_true)\n",
        "    dw = -(2 / m) * np.dot(x.T, (y_true - y_pred))\n",
        "    db = -(2 / m) * np.sum(y_true - y_pred)\n",
        "    self.w -= self.learning_rate * dw\n",
        "    self.b -= self.learning_rate * db\n",
        "\n",
        "  def fit(self, x, y_true):\n",
        "    for i in range(self.num_iterations):\n",
        "      y_pred = self.forward(x)\n",
        "      loss = self.loss(y_true, y_pred)\n",
        "      self.loss_history.append(loss)\n",
        "      self.optimize(x, y_true, y_pred)\n",
        "\n",
        "      if i % 100 == 0:\n",
        "        print(f\"iteration: {i}, loss: {loss:.4f}\")\n",
        "\n",
        "  def predict(self, x):\n",
        "    return self.forward(x)"
      ],
      "metadata": {
        "id": "4xALrepmCc2Q"
      },
      "execution_count": 163,
      "outputs": []
    },
    {
      "cell_type": "code",
      "source": [
        "# instantiate the model\n",
        "model = LinearRegression(num_features=x_train.shape[1], learning_rate=0.01)\n",
        "\n",
        "# train the model\n",
        "model.fit(x_train, y_train)"
      ],
      "metadata": {
        "colab": {
          "base_uri": "https://localhost:8080/"
        },
        "id": "V8ygR27zf-pL",
        "outputId": "c77f053a-35d8-49cc-b1f1-0ed1e17b4779"
      },
      "execution_count": 164,
      "outputs": [
        {
          "output_type": "stream",
          "name": "stdout",
          "text": [
            "iteration: 0, loss: 5.6534\n",
            "iteration: 100, loss: 0.7116\n",
            "iteration: 200, loss: 0.5961\n",
            "iteration: 300, loss: 0.5740\n",
            "iteration: 400, loss: 0.5592\n",
            "iteration: 500, loss: 0.5486\n",
            "iteration: 600, loss: 0.5409\n",
            "iteration: 700, loss: 0.5352\n",
            "iteration: 800, loss: 0.5311\n",
            "iteration: 900, loss: 0.5281\n"
          ]
        }
      ]
    },
    {
      "cell_type": "code",
      "source": [
        "# plot the loss history\n",
        "plt.plot(model.loss_history)\n",
        "plt.xlabel('iteration')\n",
        "plt.ylabel('loss')\n",
        "plt.title('loss over iterations')\n",
        "plt.show()"
      ],
      "metadata": {
        "colab": {
          "base_uri": "https://localhost:8080/",
          "height": 472
        },
        "id": "iFxRiAMt3SFP",
        "outputId": "76e3d9d4-df5a-4967-e2ec-a4d74be3859c"
      },
      "execution_count": 165,
      "outputs": [
        {
          "output_type": "display_data",
          "data": {
            "text/plain": [
              "<Figure size 640x480 with 1 Axes>"
            ],
            "image/png": "[encoded data removed]"
          },
          "metadata": {}
        }
      ]
    },
    {
      "cell_type": "code",
      "source": [
        "# calculate MSE on the test set\n",
        "predictions = model.predict(x_test)\n",
        "mse = np.mean((predictions - y_test) ** 2)\n",
        "\n",
        "print(f\"MSE on test set: {mse:.4f}\")"
      ],
      "metadata": {
        "colab": {
          "base_uri": "https://localhost:8080/"
        },
        "id": "lXRt-GGF1YG6",
        "outputId": "d77289c1-b4d1-409e-e7b0-2217dc7833f2"
      },
      "execution_count": 166,
      "outputs": [
        {
          "output_type": "stream",
          "name": "stdout",
          "text": [
            "MSE on test set: 0.5516\n"
          ]
        }
      ]
    }
  ]
}
