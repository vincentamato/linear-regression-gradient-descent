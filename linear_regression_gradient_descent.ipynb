{
  "nbformat": 4,
  "nbformat_minor": 0,
  "metadata": {
    "colab": {
      "provenance": []
    },
    "kernelspec": {
      "name": "python3",
      "display_name": "Python 3"
    },
    "language_info": {
      "name": "python"
    }
  },
  "cells": [
    {
      "cell_type": "code",
      "execution_count": 10,
      "metadata": {
        "id": "yKKhoXeG_uKf"
      },
      "outputs": [],
      "source": [
        "import numpy as np\n",
        "import pandas as pd\n",
        "import matplotlib.pyplot as plt\n",
        "from sklearn.datasets import fetch_california_housing\n",
        "from sklearn.preprocessing import StandardScaler\n",
        "from sklearn.model_selection import train_test_split\n",
        "%matplotlib inline"
      ]
    },
    {
      "cell_type": "code",
      "source": [
        "# load the dataset\n",
        "data = fetch_california_housing()\n",
        "housing_data = pd.DataFrame(data.data, columns=data.feature_names)\n",
        "housing_data['Price'] = data.target\n",
        "\n",
        "# split the data into features and targets\n",
        "x = housing_data.drop(labels=['Price'], axis=1).values\n",
        "y = housing_data['Price'].values\n",
        "\n",
        "# split the data into training and testing sets\n",
        "x_train, x_test, y_train, y_test = train_test_split(x, y, test_size=0.2)\n",
        "\n",
        "# scale the features\n",
        "scaler = StandardScaler()\n",
        "x_train = scaler.fit_transform(x_train)\n",
        "x_test = scaler.transform(x_test)\n",
        "\n",
        "# reshape y_train and y_test\n",
        "y_train = y_train.reshape(-1, 1)\n",
        "y_test = y_test.reshape(-1, 1)"
      ],
      "metadata": {
        "id": "NN8v5lWY_04v"
      },
      "execution_count": 11,
      "outputs": []
    },
    {
      "cell_type": "code",
      "source": [
        "# define the linear regression\n",
        "class LinearRegression:\n",
        "\n",
        "  def __init__(self, num_features, learning_rate, num_iterations, sigma=0.01):\n",
        "    self.num_features = num_features\n",
        "    self.learning_rate = learning_rate\n",
        "    self.num_iterations = num_iterations\n",
        "    self.w = np.random.normal(0, sigma, (num_features, 1))\n",
        "    self.b = 0\n",
        "    self.loss_history = []\n",
        "\n",
        "  def forward(self, x):\n",
        "    return np.dot(x, self.w) + self.b\n",
        "\n",
        "  def loss(self, y_true, y_pred):\n",
        "    return np.mean((y_true - y_pred)**2)\n",
        "\n",
        "  def optimize(self, x, y_true, y_pred):\n",
        "    m = len(y_true)\n",
        "    dw = -(2 / m) * np.dot(x.T, (y_true - y_pred))\n",
        "    db = -(2 / m) * np.sum(y_true - y_pred)\n",
        "    self.w -= self.learning_rate * dw\n",
        "    self.b -= self.learning_rate * db\n",
        "\n",
        "  def fit(self, x, y_true):\n",
        "    for i in range(self.num_iterations):\n",
        "      y_pred = self.forward(x)\n",
        "      loss = self.loss(y_true, y_pred)\n",
        "      self.loss_history.append(loss)\n",
        "      self.optimize(x, y_true, y_pred)\n",
        "\n",
        "      if i % 10 == 0:\n",
        "        print(f\"iteration: {i}, loss: {loss:.4f}\")\n",
        "\n",
        "  def predict(self, x):\n",
        "    return self.forward(x)"
      ],
      "metadata": {
        "id": "4xALrepmCc2Q"
      },
      "execution_count": 12,
      "outputs": []
    },
    {
      "cell_type": "code",
      "source": [
        "# hyperparameters\n",
        "learning_rate = 0.01\n",
        "num_iterations = 1000\n",
        "\n",
        "# instantiate the model\n",
        "model = LinearRegression(num_features=x_train.shape[1], learning_rate=learning_rate, num_iterations=num_iterations)\n",
        "\n",
        "# train the model\n",
        "model.fit(x_train, y_train)"
      ],
      "metadata": {
        "colab": {
          "base_uri": "https://localhost:8080/"
        },
        "collapsed": true,
        "id": "V8ygR27zf-pL",
        "outputId": "cebc7fff-1d85-4071-e70d-8c3be6d7544d"
      },
      "execution_count": 13,
      "outputs": [
        {
          "output_type": "stream",
          "name": "stdout",
          "text": [
            "iteration: 0, loss: 5.6539\n",
            "iteration: 10, loss: 3.9836\n",
            "iteration: 20, loss: 2.8714\n",
            "iteration: 30, loss: 2.1292\n",
            "iteration: 40, loss: 1.6332\n",
            "iteration: 50, loss: 1.3010\n",
            "iteration: 60, loss: 1.0780\n",
            "iteration: 70, loss: 0.9279\n",
            "iteration: 80, loss: 0.8265\n",
            "iteration: 90, loss: 0.7577\n",
            "iteration: 100, loss: 0.7106\n",
            "iteration: 110, loss: 0.6782\n",
            "iteration: 120, loss: 0.6556\n",
            "iteration: 130, loss: 0.6396\n",
            "iteration: 140, loss: 0.6280\n",
            "iteration: 150, loss: 0.6194\n",
            "iteration: 160, loss: 0.6128\n",
            "iteration: 170, loss: 0.6077\n",
            "iteration: 180, loss: 0.6035\n",
            "iteration: 190, loss: 0.6000\n",
            "iteration: 200, loss: 0.5970\n",
            "iteration: 210, loss: 0.5943\n",
            "iteration: 220, loss: 0.5918\n",
            "iteration: 230, loss: 0.5896\n",
            "iteration: 240, loss: 0.5874\n",
            "iteration: 250, loss: 0.5854\n",
            "iteration: 260, loss: 0.5836\n",
            "iteration: 270, loss: 0.5817\n",
            "iteration: 280, loss: 0.5800\n",
            "iteration: 290, loss: 0.5783\n",
            "iteration: 300, loss: 0.5767\n",
            "iteration: 310, loss: 0.5751\n",
            "iteration: 320, loss: 0.5736\n",
            "iteration: 330, loss: 0.5722\n",
            "iteration: 340, loss: 0.5708\n",
            "iteration: 350, loss: 0.5694\n",
            "iteration: 360, loss: 0.5681\n",
            "iteration: 370, loss: 0.5668\n",
            "iteration: 380, loss: 0.5655\n",
            "iteration: 390, loss: 0.5643\n",
            "iteration: 400, loss: 0.5632\n",
            "iteration: 410, loss: 0.5620\n",
            "iteration: 420, loss: 0.5609\n",
            "iteration: 430, loss: 0.5599\n",
            "iteration: 440, loss: 0.5588\n",
            "iteration: 450, loss: 0.5578\n",
            "iteration: 460, loss: 0.5569\n",
            "iteration: 470, loss: 0.5559\n",
            "iteration: 480, loss: 0.5550\n",
            "iteration: 490, loss: 0.5541\n",
            "iteration: 500, loss: 0.5533\n",
            "iteration: 510, loss: 0.5524\n",
            "iteration: 520, loss: 0.5516\n",
            "iteration: 530, loss: 0.5509\n",
            "iteration: 540, loss: 0.5501\n",
            "iteration: 550, loss: 0.5494\n",
            "iteration: 560, loss: 0.5487\n",
            "iteration: 570, loss: 0.5480\n",
            "iteration: 580, loss: 0.5473\n",
            "iteration: 590, loss: 0.5467\n",
            "iteration: 600, loss: 0.5460\n",
            "iteration: 610, loss: 0.5454\n",
            "iteration: 620, loss: 0.5448\n",
            "iteration: 630, loss: 0.5443\n",
            "iteration: 640, loss: 0.5437\n",
            "iteration: 650, loss: 0.5432\n",
            "iteration: 660, loss: 0.5426\n",
            "iteration: 670, loss: 0.5421\n",
            "iteration: 680, loss: 0.5416\n",
            "iteration: 690, loss: 0.5412\n",
            "iteration: 700, loss: 0.5407\n",
            "iteration: 710, loss: 0.5403\n",
            "iteration: 720, loss: 0.5398\n",
            "iteration: 730, loss: 0.5394\n",
            "iteration: 740, loss: 0.5390\n",
            "iteration: 750, loss: 0.5386\n",
            "iteration: 760, loss: 0.5382\n",
            "iteration: 770, loss: 0.5378\n",
            "iteration: 780, loss: 0.5375\n",
            "iteration: 790, loss: 0.5371\n",
            "iteration: 800, loss: 0.5368\n",
            "iteration: 810, loss: 0.5365\n",
            "iteration: 820, loss: 0.5361\n",
            "iteration: 830, loss: 0.5358\n",
            "iteration: 840, loss: 0.5355\n",
            "iteration: 850, loss: 0.5352\n",
            "iteration: 860, loss: 0.5349\n",
            "iteration: 870, loss: 0.5347\n",
            "iteration: 880, loss: 0.5344\n",
            "iteration: 890, loss: 0.5341\n",
            "iteration: 900, loss: 0.5339\n",
            "iteration: 910, loss: 0.5336\n",
            "iteration: 920, loss: 0.5334\n",
            "iteration: 930, loss: 0.5332\n",
            "iteration: 940, loss: 0.5330\n",
            "iteration: 950, loss: 0.5327\n",
            "iteration: 960, loss: 0.5325\n",
            "iteration: 970, loss: 0.5323\n",
            "iteration: 980, loss: 0.5321\n",
            "iteration: 990, loss: 0.5319\n"
          ]
        }
      ]
    },
    {
      "cell_type": "code",
      "source": [
        "# plot the loss history\n",
        "plt.plot(model.loss_history)\n",
        "plt.xlabel('iteration')\n",
        "plt.ylabel('loss')\n",
        "plt.title('loss over iterations')\n",
        "plt.show()"
      ],
      "metadata": {
        "colab": {
          "base_uri": "https://localhost:8080/",
          "height": 472
        },
        "id": "iFxRiAMt3SFP",
        "outputId": "b7a68c3d-eb81-47ac-ab35-26fb18f42992"
      },
      "execution_count": 14,
      "outputs": [
        {
          "output_type": "display_data",
          "data": {
            "text/plain": [
              "<Figure size 640x480 with 1 Axes>"
            ],
            "image/png": "[encoded data removed]"
          },
          "metadata": {}
        }
      ]
    },
    {
      "cell_type": "code",
      "source": [
        "# calculate MSE on the test set\n",
        "predictions = model.predict(x_test)\n",
        "mse = np.mean((predictions - y_test) ** 2)\n",
        "\n",
        "print(f\"MSE on test set: {mse:.4f}\")"
      ],
      "metadata": {
        "colab": {
          "base_uri": "https://localhost:8080/"
        },
        "id": "lXRt-GGF1YG6",
        "outputId": "843da927-6057-45d2-ce3c-de95516a0fb8"
      },
      "execution_count": 15,
      "outputs": [
        {
          "output_type": "stream",
          "name": "stdout",
          "text": [
            "MSE on test set: 0.5299\n"
          ]
        }
      ]
    }
  ]
}